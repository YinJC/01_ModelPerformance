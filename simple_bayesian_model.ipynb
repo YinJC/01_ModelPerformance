{
 "cells": [
  {
   "cell_type": "code",
   "execution_count": 1,
   "metadata": {},
   "outputs": [],
   "source": [
    "import torch\n",
    "import torch.nn as nn\n",
    "import torch.nn.functional as F\n",
    "import torch.optim as optim\n",
    "import torchvision\n",
    "from torchvision import datasets, transforms\n",
    "from torch.utils.data import DataLoader"
   ]
  },
  {
   "cell_type": "code",
   "execution_count": 366,
   "metadata": {},
   "outputs": [],
   "source": [
    "import numpy as np\n",
    "import matplotlib.pyplot as plt\n",
    "from matplotlib import colors\n",
    "from IPython import display\n",
    "import os\n",
    "from PIL import Image\n",
    "from torch.utils.data.dataset import Dataset\n",
    "from scipy.misc import imread\n",
    "import math\n",
    "import pandas as pd"
   ]
  },
  {
   "cell_type": "code",
   "execution_count": null,
   "metadata": {},
   "outputs": [],
   "source": [
    "train_loader = torch.utils.data.DataLoader(\n",
    "        datasets.MNIST('mnist-data/', train=True, download=True,\n",
    "                       transform=transforms.Compose([transforms.ToTensor(),])),\n",
    "        batch_size=128, shuffle=True)\n",
    "\n",
    "test_loader = torch.utils.data.DataLoader(\n",
    "        datasets.MNIST('mnist-data/', train=False, transform=transforms.Compose([transforms.ToTensor(),])\n",
    "                       ),\n",
    "        batch_size=128, shuffle=True)"
   ]
  },
  {
   "cell_type": "markdown",
   "metadata": {},
   "source": [
    "# simple test model"
   ]
  },
  {
   "cell_type": "code",
   "execution_count": 19,
   "metadata": {},
   "outputs": [],
   "source": [
    "train_loader = torch.utils.data.DataLoader(\n",
    "        datasets.MNIST('mnist-data/', train=True, download=True,\n",
    "                       transform=transforms.Compose([transforms.ToTensor(),])),\n",
    "        batch_size=128, shuffle=True)\n",
    "\n",
    "test_loader = torch.utils.data.DataLoader(\n",
    "        datasets.MNIST('mnist-data/', train=False, transform=transforms.Compose([transforms.ToTensor(),])\n",
    "                       ),\n",
    "        batch_size=128, shuffle=True)"
   ]
  },
  {
   "cell_type": "code",
   "execution_count": 4,
   "metadata": {},
   "outputs": [],
   "source": [
    "class NN(nn.Module):\n",
    "    def __init__(self):\n",
    "        super(NN, self).__init__()\n",
    "        self.fc1 = nn.Linear(28*28, 1024)\n",
    "        self.out = nn.Linear(1024, 10)\n",
    "        \n",
    "    def forward(self, x):\n",
    "        output = self.fc1(x)\n",
    "        output = F.relu(output)\n",
    "        output = self.out(output)\n",
    "        return output"
   ]
  },
  {
   "cell_type": "code",
   "execution_count": 6,
   "metadata": {},
   "outputs": [],
   "source": [
    "os.environ['CUDA_VISIBLE_DEVICES'] = '1'"
   ]
  },
  {
   "cell_type": "code",
   "execution_count": 7,
   "metadata": {},
   "outputs": [],
   "source": [
    "net = NN()"
   ]
  },
  {
   "cell_type": "code",
   "execution_count": 8,
   "metadata": {},
   "outputs": [],
   "source": [
    "import pyro\n",
    "from pyro.distributions import Normal, Categorical\n",
    "from pyro.infer import SVI, Trace_ELBO\n",
    "from pyro.optim import Adam\n",
    "import pyro.poutine as poutine"
   ]
  },
  {
   "cell_type": "code",
   "execution_count": 9,
   "metadata": {},
   "outputs": [],
   "source": [
    "def dense_normal_prior(name, params):\n",
    "    mu_param = pyro.param('{}_mu'.format(name), torch.zeros_like(params))\n",
    "    sigma_param = F.softplus(pyro.param(\"{}_sigma\".format(name), torch.ones_like(params)))\n",
    "    prior = Normal(loc=mu_param, scale=sigma_param)\n",
    "    return prior"
   ]
  },
  {
   "cell_type": "code",
   "execution_count": 10,
   "metadata": {},
   "outputs": [],
   "source": [
    "log_softmax = nn.LogSoftmax(dim=1)"
   ]
  },
  {
   "cell_type": "code",
   "execution_count": 11,
   "metadata": {},
   "outputs": [],
   "source": [
    "def model(x_data, y_data):\n",
    "    fc1w_prior = Normal(loc=torch.zeros_like(net.fc1.weight), scale=torch.ones_like(net.fc1.weight))\n",
    "    fc1b_prior = Normal(loc=torch.zeros_like(net.fc1.bias), scale=torch.ones_like(net.fc1.bias))\n",
    "    \n",
    "    outw_prior = Normal(loc=torch.zeros_like(net.out.weight), scale=torch.ones_like(net.out.weight))\n",
    "    outb_prior = Normal(loc=torch.zeros_like(net.out.bias), scale=torch.ones_like(net.out.bias))\n",
    "\n",
    "    priors = {\n",
    "        'fc1.weight': fc1w_prior, 'fc1.bias': fc1b_prior,\n",
    "        'out.weight': outw_prior, 'out.bias': outb_prior\n",
    "    }\n",
    "\n",
    "    # lift module parameters to random variables sampled from the priors\n",
    "    lifted_module = pyro.random_module(\"module\", net, priors)\n",
    "\n",
    "    # sample a classifier\n",
    "    lifted_reg_model = lifted_module()\n",
    "\n",
    "    p_hat = log_softmax(lifted_reg_model(x_data))\n",
    "\n",
    "    pyro.sample(\"obs\", Categorical(logits=p_hat), obs=y_data)"
   ]
  },
  {
   "cell_type": "code",
   "execution_count": 12,
   "metadata": {},
   "outputs": [],
   "source": [
    "def guide(x_data, y_data):\n",
    "    # fc1 weight distribution priors\n",
    "    fc1w_prior = dense_normal_prior('fc1w', net.fc1.weight)\n",
    "    # fc1 bias distribution priors\n",
    "    fc1b_prior = dense_normal_prior('fc1b', net.fc1.bias)\n",
    "\n",
    "    # fc3 weight distribution priors\n",
    "    outw_prior = dense_normal_prior('outw', net.out.weight)\n",
    "    # fc3 bias distribution priors\n",
    "    outb_prior = dense_normal_prior('outb', net.out.bias)\n",
    "\n",
    "    priors = {\n",
    "        'fc1.weight': fc1w_prior, 'fc1.bias': fc1b_prior,\n",
    "        'out.weight': outw_prior, 'out.bias': outb_prior\n",
    "    }\n",
    "\n",
    "    lifted_module = pyro.random_module(\"module\", net, priors)\n",
    "    return lifted_module()"
   ]
  },
  {
   "cell_type": "code",
   "execution_count": 13,
   "metadata": {},
   "outputs": [
    {
     "data": {
      "text/plain": [
       "NN(\n",
       "  (fc1): Linear(in_features=784, out_features=1024, bias=True)\n",
       "  (out): Linear(in_features=1024, out_features=10, bias=True)\n",
       ")"
      ]
     },
     "execution_count": 13,
     "metadata": {},
     "output_type": "execute_result"
    }
   ],
   "source": [
    "net.cuda()"
   ]
  },
  {
   "cell_type": "code",
   "execution_count": 14,
   "metadata": {},
   "outputs": [],
   "source": [
    "optim = Adam({\"lr\": 0.01})\n",
    "svi = SVI(model, guide, optim, loss=Trace_ELBO())"
   ]
  },
  {
   "cell_type": "code",
   "execution_count": 82,
   "metadata": {},
   "outputs": [],
   "source": [
    "def predict(x, T):\n",
    "    sampled_models = [guide(None, None) for _ in range(T)]\n",
    "    yhats = [model(x).data for model in sampled_models]\n",
    "    yhats = torch.stack(yhats, dim=1)\n",
    "    mean = torch.mean(yhats, 1)\n",
    "    return np.argmax(mean.cpu().numpy(), axis=1)\n",
    "\n",
    "def evaluate(T, loader):\n",
    "    correct = 0\n",
    "    total = 0\n",
    "    for j, data in enumerate(loader):\n",
    "        images, labels = data\n",
    "        predicted = predict(images.view(images.size(0), -1).cuda(), T=T)\n",
    "        total += labels.size(0)\n",
    "        correct += (predicted == np.array(labels)).sum().item()\n",
    "    return (100 * correct / total)"
   ]
  },
  {
   "cell_type": "code",
   "execution_count": 21,
   "metadata": {
    "scrolled": true
   },
   "outputs": [
    {
     "name": "stdout",
     "output_type": "stream",
     "text": [
      "Epoch  0  Loss  84.36735980621974 Accuracy  89.03\n",
      "Epoch  1  Loss  84.09832319690386 Accuracy  89.72\n",
      "Epoch  2  Loss  84.27995190889041 Accuracy  89.55\n",
      "Epoch  3  Loss  84.30779006101291 Accuracy  89.27\n",
      "Epoch  4  Loss  83.8069900431792 Accuracy  89.02\n",
      "Epoch  5  Loss  84.53469102640152 Accuracy  89.36\n",
      "Epoch  6  Loss  83.8996834798336 Accuracy  89.05\n",
      "Epoch  7  Loss  83.92807042242686 Accuracy  89.59\n",
      "Epoch  8  Loss  84.11383662295341 Accuracy  89.61\n",
      "Epoch  9  Loss  84.39601743836403 Accuracy  89.37\n"
     ]
    }
   ],
   "source": [
    "num_iterations = 10\n",
    "loss = 0\n",
    "\n",
    "for j in range(num_iterations):\n",
    "    loss = 0\n",
    "    for batch_id, data in enumerate(train_loader):\n",
    "        # calculate the loss and take a gradient step\n",
    "        loss += svi.step(data[0].view(data[0].size(0), -1).cuda(), data[1].cuda())\n",
    "    normalizer_train = len(train_loader.dataset)\n",
    "    total_epoch_loss_train = loss / normalizer_train\n",
    "    acc = evaluate(10, test_loader)\n",
    "    print(\"Epoch \", j, \" Loss \", total_epoch_loss_train, 'Accuracy ', acc)"
   ]
  },
  {
   "cell_type": "markdown",
   "metadata": {},
   "source": [
    "## accuracy remove samples with all probability less than 0.5"
   ]
  },
  {
   "cell_type": "code",
   "execution_count": 104,
   "metadata": {},
   "outputs": [],
   "source": [
    "def predict(x, T):\n",
    "    sampled_models = [guide(None, None) for _ in range(T)]\n",
    "    yhats = [model(x).data for model in sampled_models]\n",
    "    yhats = F.softmax(torch.stack(yhats, dim=1), dim=2)\n",
    "    mean = torch.mean(yhats, 1)\n",
    "    return np.argmax(mean.cpu().numpy(), axis=1), mean.cpu().numpy()\n",
    "\n",
    "def evaluate(T, loader, threshold=0.2):\n",
    "    correct = 0\n",
    "    total = 0\n",
    "    all_cnt = 0\n",
    "    for j, data in enumerate(loader):\n",
    "        images, labels = data\n",
    "        predicted, mean_prob = predict(images.view(images.size(0), -1).cuda(), T=T)\n",
    "        confidence = np.max(mean_prob, axis=1)\n",
    "        idx = [idx for idx in range(confidence.shape[0]) if confidence[idx]>threshold]\n",
    "        all_cnt += len(labels)\n",
    "        total += len(idx)\n",
    "        correct += (predicted[idx] == np.array(labels)[idx]).sum().item()\n",
    "    return (100 * correct / total), all_cnt-total, total/all_cnt"
   ]
  },
  {
   "cell_type": "markdown",
   "metadata": {},
   "source": [
    "### threshold = 0.5"
   ]
  },
  {
   "cell_type": "code",
   "execution_count": 105,
   "metadata": {},
   "outputs": [
    {
     "name": "stdout",
     "output_type": "stream",
     "text": [
      "accuracy is:  93.11460774467136\n",
      "number of samples skipped : 1039\n",
      "raio (able to predict/all sample): 0.8961\n"
     ]
    }
   ],
   "source": [
    "acc, skip, ratio = evaluate(10, test_loader, threshold=0.5)\n",
    "print('accuracy is: ', acc)\n",
    "print('number of samples skipped :', skip)\n",
    "print('raio (able to predict/all sample):', ratio)"
   ]
  },
  {
   "cell_type": "code",
   "execution_count": 106,
   "metadata": {},
   "outputs": [
    {
     "name": "stdout",
     "output_type": "stream",
     "text": [
      "accuracy is:  93.81741354386745\n",
      "number of samples skipped : 1007\n",
      "raio (able to predict/all sample): 0.8993\n"
     ]
    }
   ],
   "source": [
    "acc, skip, ratio = evaluate(20, test_loader, threshold=0.5)\n",
    "print('accuracy is: ', acc)\n",
    "print('number of samples skipped :', skip)\n",
    "print('raio (able to predict/all sample):', ratio)"
   ]
  },
  {
   "cell_type": "markdown",
   "metadata": {},
   "source": [
    "### threshold = 0.6"
   ]
  },
  {
   "cell_type": "code",
   "execution_count": 110,
   "metadata": {},
   "outputs": [
    {
     "name": "stdout",
     "output_type": "stream",
     "text": [
      "accuracy is:  95.27710843373494\n",
      "number of samples skipped : 1700\n",
      "raio (able to predict/all sample): 0.83\n"
     ]
    }
   ],
   "source": [
    "acc, skip, ratio = evaluate(10, test_loader, threshold=0.6)\n",
    "print('accuracy is: ', acc)\n",
    "print('number of samples skipped :', skip)\n",
    "print('raio (able to predict/all sample):', ratio)"
   ]
  },
  {
   "cell_type": "code",
   "execution_count": 108,
   "metadata": {},
   "outputs": [
    {
     "name": "stdout",
     "output_type": "stream",
     "text": [
      "accuracy is:  96.42380894653897\n",
      "number of samples skipped : 1751\n",
      "raio (able to predict/all sample): 0.8249\n"
     ]
    }
   ],
   "source": [
    "acc, skip, ratio = evaluate(20, test_loader, threshold=0.6)\n",
    "print('accuracy is: ', acc)\n",
    "print('number of samples skipped :', skip)\n",
    "print('raio (able to predict/all sample):', ratio)"
   ]
  },
  {
   "cell_type": "markdown",
   "metadata": {},
   "source": [
    "## Uncertainty Estimation"
   ]
  },
  {
   "cell_type": "code",
   "execution_count": 342,
   "metadata": {},
   "outputs": [],
   "source": [
    "def predict(x, T):\n",
    "    sampled_models = [guide(None, None) for _ in range(T)]\n",
    "    yhats = [model(x).data for model in sampled_models]\n",
    "    yhats = F.softmax(torch.stack(yhats, dim=1), dim=2)\n",
    "    mean = torch.mean(yhats, 1).cpu().numpy()\n",
    "    \n",
    "    # uncertainty\n",
    "    # yhats [batch * 10 * 10]\n",
    "    p_hat = yhats.cpu().numpy()\n",
    "    aleatoric = np.mean(p_hat*(1-p_hat), axis=1) # batch * 10\n",
    "    epistemic = np.mean(p_hat**2, axis=1) - np.mean(p_hat, axis=1)**2 # batch * 10\n",
    "    return np.argmax(mean, axis=1), mean, aleatoric, epistemic\n",
    "\n",
    "def evaluate(T, loader, threshold=0.2):\n",
    "    correct = 0\n",
    "    total = 0\n",
    "    all_cnt = 0\n",
    "    total_alea_thresh = 0\n",
    "    total_epis_thresh = 0\n",
    "    for j, data in enumerate(loader):\n",
    "        images, labels = data\n",
    "        predicted, mean_prob, aleatoric, epistemic = predict(images.view(images.size(0), -1).cuda(), T=T)\n",
    "        confidence = np.max(mean_prob, axis=1)\n",
    "        idx = [idx for idx in range(confidence.shape[0]) if confidence[idx]>threshold]\n",
    "        all_cnt += len(labels)\n",
    "        total += len(idx)\n",
    "        correct += (predicted[idx] == np.array(labels)[idx]).sum().item()\n",
    "        \n",
    "        # uncertainty for the best choice\n",
    "        total_alea_thresh += np.choose(predicted, aleatoric.T)[idx].sum().item()\n",
    "        total_epis_thresh += np.choose(predicted, epistemic.T)[idx].sum().item()\n",
    "    return (100 * correct / total), all_cnt-total, total/all_cnt, total_alea_thresh/total, total_epis_thresh/total"
   ]
  },
  {
   "cell_type": "markdown",
   "metadata": {},
   "source": [
    "### threshold 0.5"
   ]
  },
  {
   "cell_type": "code",
   "execution_count": 113,
   "metadata": {},
   "outputs": [
    {
     "name": "stdout",
     "output_type": "stream",
     "text": [
      "accuracy is:  93.08652988403212\n",
      "number of samples skipped : 1032\n",
      "raio (able to predict/all sample): 0.83\n",
      "mean epistemic: 0.10166775213885158\n",
      "mean aleaotoric: 0.002358458893843839\n"
     ]
    }
   ],
   "source": [
    "acc, skip, tatio,mean_alea, mean_epis = evaluate(10, test_loader, threshold=0.5)\n",
    "print('accuracy is: ', acc)\n",
    "print('number of samples skipped :', skip)\n",
    "print('raio (able to predict/all sample):', ratio)\n",
    "print('mean epistemic:', mean_epis)\n",
    "print('mean aleaotoric:', mean_alea)"
   ]
  },
  {
   "cell_type": "code",
   "execution_count": 114,
   "metadata": {},
   "outputs": [
    {
     "name": "stdout",
     "output_type": "stream",
     "text": [
      "accuracy is:  93.93265918435382\n",
      "number of samples skipped : 1001\n",
      "raio (able to predict/all sample): 0.83\n",
      "mean epistemic: 0.10918405167539062\n",
      "mean aleaotoric: 0.0023589821815729168\n"
     ]
    }
   ],
   "source": [
    "acc, skip, tatio,mean_alea, mean_epis = evaluate(20, test_loader, threshold=0.5)\n",
    "print('accuracy is: ', acc)\n",
    "print('number of samples skipped :', skip)\n",
    "print('raio (able to predict/all sample):', ratio)\n",
    "print('mean epistemic:', mean_epis)\n",
    "print('mean aleaotoric:', mean_alea)"
   ]
  },
  {
   "cell_type": "markdown",
   "metadata": {},
   "source": [
    "### threshold 0.6"
   ]
  },
  {
   "cell_type": "code",
   "execution_count": 120,
   "metadata": {},
   "outputs": [
    {
     "name": "stdout",
     "output_type": "stream",
     "text": [
      "accuracy is:  95.39259437944759\n",
      "number of samples skipped : 1709\n",
      "raio (able to predict/all sample): 0.83\n",
      "mean epistemic: 0.09170494259604355\n",
      "mean aleaotoric: 0.00199796977906632\n"
     ]
    }
   ],
   "source": [
    "acc, skip, tatio,mean_alea, mean_epis = evaluate(10, test_loader, threshold=0.6)\n",
    "print('accuracy is: ', acc)\n",
    "print('number of samples skipped :', skip)\n",
    "print('raio (able to predict/all sample):', ratio)\n",
    "print('mean epistemic:', mean_epis)\n",
    "print('mean aleaotoric:', mean_alea)"
   ]
  },
  {
   "cell_type": "code",
   "execution_count": 118,
   "metadata": {},
   "outputs": [
    {
     "name": "stdout",
     "output_type": "stream",
     "text": [
      "accuracy is:  96.4006832601269\n",
      "number of samples skipped : 1804\n",
      "raio (able to predict/all sample): 0.83\n",
      "mean epistemic: 0.09480218217685898\n",
      "mean aleaotoric: 0.0020654726052623134\n"
     ]
    }
   ],
   "source": [
    "acc, skip, tatio,mean_alea, mean_epis = evaluate(20, test_loader, threshold=0.6)\n",
    "print('accuracy is: ', acc)\n",
    "print('number of samples skipped :', skip)\n",
    "print('raio (able to predict/all sample):', ratio)\n",
    "print('mean epistemic:', mean_epis)\n",
    "print('mean aleaotoric:', mean_alea)"
   ]
  },
  {
   "cell_type": "code",
   "execution_count": 121,
   "metadata": {
    "scrolled": true
   },
   "outputs": [
    {
     "name": "stdout",
     "output_type": "stream",
     "text": [
      "accuracy is:  96.57275277472863\n",
      "number of samples skipped : 1801\n",
      "raio (able to predict/all sample): 0.83\n",
      "mean epistemic: 0.09811366701405257\n",
      "mean aleaotoric: 0.0020794412326206268\n"
     ]
    }
   ],
   "source": [
    "acc, skip, tatio,mean_alea, mean_epis = evaluate(30, test_loader, threshold=0.6)\n",
    "print('accuracy is: ', acc)\n",
    "print('number of samples skipped :', skip)\n",
    "print('raio (able to predict/all sample):', ratio)\n",
    "print('mean epistemic:', mean_epis)\n",
    "print('mean aleaotoric:', mean_alea)"
   ]
  },
  {
   "cell_type": "markdown",
   "metadata": {},
   "source": [
    "## analyse the sample with confidence over 0.6 but prediction is wrong"
   ]
  },
  {
   "cell_type": "code",
   "execution_count": 156,
   "metadata": {},
   "outputs": [],
   "source": [
    "def predict(x, T):\n",
    "    sampled_models = [guide(None, None) for _ in range(T)]\n",
    "    yhats = [model(x).data for model in sampled_models]\n",
    "    yhats = F.softmax(torch.stack(yhats, dim=1), dim=2)\n",
    "    mean = torch.mean(yhats, 1).cpu().numpy()\n",
    "    \n",
    "    # uncertainty\n",
    "    # yhats [batch * 10 * 10]\n",
    "    p_hat = yhats.cpu().numpy()\n",
    "    aleatoric = np.mean(p_hat*(1-p_hat), axis=1) # batch * 10\n",
    "    epistemic = np.mean(p_hat**2, axis=1) - np.mean(p_hat, axis=1)**2 # batch * 10\n",
    "    return np.argmax(mean, axis=1), mean, aleatoric, epistemic\n",
    "\n",
    "def evaluate(T, loader, threshold=0.2):\n",
    "    for j, data in enumerate(loader):\n",
    "        images, labels = data\n",
    "        predicted, mean_prob, aleatoric, epistemic = predict(images.view(images.size(0), -1).cuda(), T=T)\n",
    "        confidence = np.max(mean_prob, axis=1)\n",
    "        idx = [idx for idx in range(confidence.shape[0]) if confidence[idx]>threshold]\n",
    "        correct = (predicted[idx] == np.array(labels)[idx])\n",
    "        wrong_idx = [i for i in range(len(correct)) if correct[i] == False]\n",
    "        usable_idx = np.array(idx)[wrong_idx]\n",
    "        if len(usable_idx)>0:\n",
    "            return images[usable_idx], labels[usable_idx], mean_prob[usable_idx], aleatoric[usable_idx], epistemic[usable_idx]\n",
    "        else:\n",
    "            return 0, 0, 0, 0, 0"
   ]
  },
  {
   "cell_type": "code",
   "execution_count": 178,
   "metadata": {},
   "outputs": [],
   "source": [
    "image, label, prob, alea, epis = evaluate(30, test_loader, threshold=0.6)"
   ]
  },
  {
   "cell_type": "code",
   "execution_count": 184,
   "metadata": {
    "scrolled": true
   },
   "outputs": [
    {
     "data": {
      "image/png": "[encoded data removed]",
      "text/plain": [
       "<Figure size 432x288 with 1 Axes>"
      ]
     },
     "metadata": {
      "needs_background": "light"
     },
     "output_type": "display_data"
    },
    {
     "name": "stdout",
     "output_type": "stream",
     "text": [
      "confidence:\n",
      "[1.3061119e-26 1.9618179e-44 1.1713722e-34 3.3333320e-02 1.5227041e-09\n",
      " 7.1329935e-11 0.0000000e+00 3.0022436e-01 6.4332724e-02 6.0210967e-01]\n",
      "label:\n",
      "7\n",
      "prediction\n",
      "9\n",
      "alea \n",
      "[1.3061119e-26 1.9618179e-44 1.1713722e-34 1.5894564e-08 1.5227039e-09\n",
      " 7.1329935e-11 0.0000000e+00 2.2045302e-03 2.1705243e-03 4.3750312e-03]\n",
      "epis\n",
      "[0.0000000e+00 0.0000000e+00 0.0000000e+00 3.2222193e-02 6.7240202e-17\n",
      " 1.4755082e-19 0.0000000e+00 2.0788518e-01 5.8023501e-02 2.3519853e-01]\n"
     ]
    }
   ],
   "source": [
    "num = 1\n",
    "plt.figure()\n",
    "plt.imshow(image[num].numpy().squeeze(), cmap='gray')\n",
    "plt.show()\n",
    "plt.close()\n",
    "print('confidence:')\n",
    "print(prob[num])\n",
    "print('label:')\n",
    "print(label[num].numpy())\n",
    "print('prediction')\n",
    "print(np.argmax(prob[num]))\n",
    "print('alea ')\n",
    "print(alea[num])\n",
    "print('epis')\n",
    "print(epis[num])"
   ]
  },
  {
   "cell_type": "markdown",
   "metadata": {},
   "source": [
    "## Expected Calibration Error (ECE)"
   ]
  },
  {
   "cell_type": "code",
   "execution_count": 336,
   "metadata": {},
   "outputs": [],
   "source": [
    "class ECELoss(nn.Module):\n",
    "    \"\"\"\n",
    "    Calculates the Expected Calibration Error of a model.\n",
    "    (This isn't necessary for temperature scaling, just a cool metric).\n",
    "    The input to this loss is the logits of a model, NOT the softmax scores.\n",
    "    This divides the confidence outputs into equally-sized interval bins.\n",
    "    In each bin, we compute the confidence gap:\n",
    "    bin_gap = | avg_confidence_in_bin - accuracy_in_bin |\n",
    "    We then return a weighted average of the gaps, based on the number\n",
    "    of samples in each bin\n",
    "    See: Naeini, Mahdi Pakdaman, Gregory F. Cooper, and Milos Hauskrecht.\n",
    "    \"Obtaining Well Calibrated Probabilities Using Bayesian Binning.\" AAAI.\n",
    "    2015.\n",
    "    \"\"\"\n",
    "    def __init__(self, n_bins=15):\n",
    "        \"\"\"\n",
    "        n_bins (int): number of confidence interval bins\n",
    "        \"\"\"\n",
    "        super(ECELoss, self).__init__()\n",
    "        bin_boundaries = torch.linspace(0, 1, n_bins + 1)\n",
    "        self.bin_lowers = bin_boundaries[:-1]\n",
    "        self.bin_uppers = bin_boundaries[1:]\n",
    "\n",
    "    def forward(self, softmaxes, labels):\n",
    "        confidences, predictions = torch.max(softmaxes, 1)\n",
    "        accuracies = predictions.eq(labels)\n",
    "\n",
    "        ece = torch.zeros(1)\n",
    "        for bin_lower, bin_upper in zip(self.bin_lowers, self.bin_uppers):\n",
    "            # Calculated |confidence - accuracy| in each bin\n",
    "            in_bin = confidences.gt(bin_lower.item()) * confidences.le(bin_upper.item())\n",
    "            prop_in_bin = in_bin.float().mean()\n",
    "            if prop_in_bin.item() > 0:\n",
    "                accuracy_in_bin = accuracies[in_bin].float().mean()\n",
    "                avg_confidence_in_bin = confidences[in_bin].mean()\n",
    "                ece += torch.abs(avg_confidence_in_bin - accuracy_in_bin) * prop_in_bin\n",
    "\n",
    "        return ece"
   ]
  },
  {
   "cell_type": "code",
   "execution_count": 337,
   "metadata": {},
   "outputs": [],
   "source": [
    "ece = ECELoss(n_bins = 10)"
   ]
  },
  {
   "cell_type": "code",
   "execution_count": 338,
   "metadata": {},
   "outputs": [],
   "source": [
    "def predict(x, T):\n",
    "    sampled_models = [guide(None, None) for _ in range(T)]\n",
    "    yhats = [F.softmax(model(x).data, dim=1) for model in sampled_models]\n",
    "    yhats = torch.stack(yhats, dim=1)\n",
    "    mean = torch.mean(yhats, 1)\n",
    "    return mean\n",
    "\n",
    "def evaluate(T, loader):\n",
    "    prob_list = []\n",
    "    label_list = []\n",
    "    for j, data in enumerate(loader):\n",
    "        images, labels = data\n",
    "        predicted = predict(images.view(images.size(0), -1).cuda(), T=T)\n",
    "        label_list.extend(labels)\n",
    "        prob_list.append(predicted)\n",
    "    label_list = torch.stack(label_list, dim=0).view(-1).cpu()\n",
    "    prob_list = torch.cat(prob_list, dim=0).cpu()  \n",
    "    return ece.forward(prob_list, label_list)"
   ]
  },
  {
   "cell_type": "code",
   "execution_count": 339,
   "metadata": {
    "scrolled": true
   },
   "outputs": [
    {
     "name": "stdout",
     "output_type": "stream",
     "text": [
      "ece_loss: 0.08351756632328033\n"
     ]
    }
   ],
   "source": [
    "ece_loss = evaluate(10, test_loader)\n",
    "print('ece_loss:', str(ece_loss.item()))"
   ]
  },
  {
   "cell_type": "markdown",
   "metadata": {},
   "source": [
    "# Reliability Diagram"
   ]
  },
  {
   "cell_type": "code",
   "execution_count": 320,
   "metadata": {},
   "outputs": [],
   "source": [
    "class ReliabilityDiagram(nn.Module):\n",
    "    \"\"\"\n",
    "    Calculates the Expected Calibration Error of a model.\n",
    "    (This isn't necessary for temperature scaling, just a cool metric).\n",
    "    The input to this loss is the logits of a model, NOT the softmax scores.\n",
    "    This divides the confidence outputs into equally-sized interval bins.\n",
    "    In each bin, we compute the confidence gap:\n",
    "    bin_gap = | avg_confidence_in_bin - accuracy_in_bin |\n",
    "    We then return a weighted average of the gaps, based on the number\n",
    "    of samples in each bin\n",
    "    See: Naeini, Mahdi Pakdaman, Gregory F. Cooper, and Milos Hauskrecht.\n",
    "    \"Obtaining Well Calibrated Probabilities Using Bayesian Binning.\" AAAI.\n",
    "    2015.\n",
    "    \"\"\"\n",
    "    def __init__(self, n_bins=10):\n",
    "        \"\"\"\n",
    "        n_bins (int): number of confidence interval bins\n",
    "        \"\"\"\n",
    "        super(ReliabilityDiagram, self).__init__()\n",
    "        bin_boundaries = torch.linspace(0, 1, n_bins + 1)\n",
    "        self.bin_lowers = bin_boundaries[:-1]\n",
    "        self.bin_uppers = bin_boundaries[1:]\n",
    "\n",
    "    def forward(self, softmaxes, labels):\n",
    "        confidences, predictions = torch.max(softmaxes, 1)\n",
    "        accuracies = predictions.eq(labels)\n",
    "\n",
    "        x = []\n",
    "        y = []\n",
    "        for bin_lower, bin_upper in zip(self.bin_lowers, self.bin_uppers):\n",
    "            # Calculated |confidence - accuracy| in each bin\n",
    "            in_bin = confidences.gt(bin_lower.item()) * confidences.le(bin_upper.item())\n",
    "            prop_in_bin = in_bin.float().mean()\n",
    "            if prop_in_bin.item() > 0:\n",
    "                accuracy_in_bin = accuracies[in_bin].float().mean()\n",
    "                avg_confidence_in_bin = confidences[in_bin].mean()\n",
    "                x.append(avg_confidence_in_bin)\n",
    "                y.append(accuracy_in_bin)\n",
    "        return torch.stack(x, dim=0).view(-1).cpu().numpy(), torch.stack(y, dim=0).view(-1).cpu().numpy()"
   ]
  },
  {
   "cell_type": "code",
   "execution_count": 321,
   "metadata": {},
   "outputs": [],
   "source": [
    "rd = ReliabilityDiagram(n_bins=10)"
   ]
  },
  {
   "cell_type": "code",
   "execution_count": 322,
   "metadata": {},
   "outputs": [],
   "source": [
    "def predict(x, T):\n",
    "    sampled_models = [guide(None, None) for _ in range(T)]\n",
    "    yhats = [F.softmax(model(x).data, dim=1) for model in sampled_models]\n",
    "    yhats = torch.stack(yhats, dim=1)\n",
    "    mean = torch.mean(yhats, 1)\n",
    "    return mean\n",
    "\n",
    "def evaluate(T, loader):\n",
    "    prob_list = []\n",
    "    label_list = []\n",
    "    for j, data in enumerate(loader):\n",
    "        images, labels = data\n",
    "        predicted = predict(images.view(images.size(0), -1).cuda(), T=T)\n",
    "        label_list.extend(labels)\n",
    "        prob_list.append(predicted)\n",
    "    label_list = torch.stack(label_list, dim=0).view(-1).cpu()\n",
    "    prob_list = torch.cat(prob_list, dim=0).cpu()  \n",
    "    return label_list, prob_list"
   ]
  },
  {
   "cell_type": "code",
   "execution_count": 323,
   "metadata": {},
   "outputs": [],
   "source": [
    "label, prob = evaluate(10, test_loader)"
   ]
  },
  {
   "cell_type": "code",
   "execution_count": 324,
   "metadata": {},
   "outputs": [],
   "source": [
    "x,y = rd(prob, label)"
   ]
  },
  {
   "cell_type": "code",
   "execution_count": 325,
   "metadata": {},
   "outputs": [
    {
     "name": "stdout",
     "output_type": "stream",
     "text": [
      "[0.2        0.2894902  0.3709706  0.4693529  0.5639573  0.66737336\n",
      " 0.7708859  0.87972105 0.9877426 ]\n"
     ]
    }
   ],
   "source": [
    "print(x)"
   ]
  },
  {
   "cell_type": "code",
   "execution_count": 326,
   "metadata": {},
   "outputs": [
    {
     "name": "stdout",
     "output_type": "stream",
     "text": [
      "[0.         0.2840909  0.36196318 0.50498337 0.7055675  0.8345178\n",
      " 0.92909354 0.97077763 0.99265105]\n"
     ]
    }
   ],
   "source": [
    "print(y)"
   ]
  },
  {
   "cell_type": "code",
   "execution_count": 331,
   "metadata": {
    "scrolled": true
   },
   "outputs": [
    {
     "data": {
      "image/png": "[encoded data removed]",
      "text/plain": [
       "<Figure size 432x288 with 1 Axes>"
      ]
     },
     "metadata": {
      "needs_background": "light"
     },
     "output_type": "display_data"
    }
   ],
   "source": [
    "plt.figure()\n",
    "plt.bar(x=x, height=y, width=0.05, label='output')\n",
    "plt.plot(np.linspace(0, 1, 11), np.linspace(0, 1, 11), 'r', '--')\n",
    "plt.xlabel('confidence')\n",
    "plt.ylabel('accuracy')\n",
    "plt.title('Reliability Diagram')\n",
    "plt.xlim(0, 1)\n",
    "plt.ylim(0,1)\n",
    "plt.legend()\n",
    "plt.show()\n",
    "plt.close()"
   ]
  },
  {
   "cell_type": "markdown",
   "metadata": {},
   "source": [
    "# What Model Don't Know"
   ]
  },
  {
   "cell_type": "code",
   "execution_count": 341,
   "metadata": {},
   "outputs": [
    {
     "name": "stdout",
     "output_type": "stream",
     "text": [
      "Downloading http://fashion-mnist.s3-website.eu-central-1.amazonaws.com/train-images-idx3-ubyte.gz\n",
      "Downloading http://fashion-mnist.s3-website.eu-central-1.amazonaws.com/train-labels-idx1-ubyte.gz\n",
      "Downloading http://fashion-mnist.s3-website.eu-central-1.amazonaws.com/t10k-images-idx3-ubyte.gz\n",
      "Downloading http://fashion-mnist.s3-website.eu-central-1.amazonaws.com/t10k-labels-idx1-ubyte.gz\n",
      "Processing...\n",
      "Done!\n"
     ]
    }
   ],
   "source": [
    "test_loader = torch.utils.data.DataLoader(\n",
    "        datasets.FashionMNIST('fashion-mnist-data/', train=False, download=True, transform=transforms.Compose([transforms.ToTensor(),])\n",
    "                       ),\n",
    "        batch_size=128, shuffle=True)"
   ]
  },
  {
   "cell_type": "code",
   "execution_count": 359,
   "metadata": {
    "scrolled": true
   },
   "outputs": [],
   "source": [
    "def predict(x, T):\n",
    "    sampled_models = [guide(None, None) for _ in range(T)]\n",
    "    yhats = [model(x).data for model in sampled_models]\n",
    "    yhats = F.softmax(torch.stack(yhats, dim=1), dim=2)\n",
    "    mean = torch.mean(yhats, 1).cpu().numpy()\n",
    "    \n",
    "    # uncertainty\n",
    "    # yhats [batch * 10 * 10]\n",
    "    p_hat = yhats.cpu().numpy()\n",
    "    aleatoric = np.mean(p_hat*(1-p_hat), axis=1) # batch * 10\n",
    "    epistemic = np.mean(p_hat**2, axis=1) - np.mean(p_hat, axis=1)**2 # batch * 10\n",
    "    return np.argmax(mean, axis=1), mean, aleatoric, epistemic\n",
    "\n",
    "def evaluate(T, loader, threshold=0.2):\n",
    "    entropy = 0\n",
    "    total = 0\n",
    "    all_cnt = 0\n",
    "    total_alea_thresh = 0\n",
    "    total_epis_thresh = 0\n",
    "    entropy = np.array([])\n",
    "    for j, data in enumerate(loader):\n",
    "        images, labels = data\n",
    "        predicted, mean_prob, aleatoric, epistemic = predict(images.view(images.size(0), -1).cuda(), T=T)\n",
    "        confidence = np.max(mean_prob, axis=1)\n",
    "        idx = [idx for idx in range(confidence.shape[0]) if confidence[idx]>threshold]\n",
    "        all_cnt += len(labels)\n",
    "        total += len(idx)\n",
    "        entropy = np.concatenate([entropy, confidence])\n",
    "        # uncertainty for the best choice\n",
    "        total_alea_thresh += np.choose(predicted, aleatoric.T).sum().item()\n",
    "        total_epis_thresh += np.choose(predicted, epistemic.T).sum().item()\n",
    "    entropy = -np.log(entropy)\n",
    "    return all_cnt-total, total/all_cnt, total_alea_thresh/total, total_epis_thresh/total, entropy"
   ]
  },
  {
   "cell_type": "code",
   "execution_count": 372,
   "metadata": {},
   "outputs": [],
   "source": [
    "skip, ratio, alea_mean, epis_mean, entropy = evaluate(10, test_loader, threshold=0.5)"
   ]
  },
  {
   "cell_type": "code",
   "execution_count": 373,
   "metadata": {},
   "outputs": [
    {
     "name": "stdout",
     "output_type": "stream",
     "text": [
      "number of sample skipped  5411\n",
      "predict ratio  0.4589\n",
      "mean alea  0.007267275448067823\n",
      "mean epis  0.45482352414300536\n"
     ]
    }
   ],
   "source": [
    "print('number of sample skipped ', skip)\n",
    "print('predict ratio ',ratio)\n",
    "print('mean alea ', alea_mean)\n",
    "print('mean epis ', epis_mean)"
   ]
  },
  {
   "cell_type": "code",
   "execution_count": 375,
   "metadata": {},
   "outputs": [],
   "source": [
    "entropy_cnt = pd.Series(entropy).value_counts().sort_index()\n",
    "cumulative = np.cumsum(entropy_cnt.values)"
   ]
  },
  {
   "cell_type": "code",
   "execution_count": 376,
   "metadata": {},
   "outputs": [
    {
     "data": {
      "image/png": "[encoded data removed]",
      "text/plain": [
       "<Figure size 432x288 with 1 Axes>"
      ]
     },
     "metadata": {
      "needs_background": "light"
     },
     "output_type": "display_data"
    }
   ],
   "source": [
    "plt.figure()\n",
    "plt.plot(entropy_cnt.index, cumulative/cumulative[-1], 'r', label='cdf')\n",
    "plt.xlabel('entropy')\n",
    "plt.ylabel('cdf')\n",
    "plt.title('Empirical CDF of Entropy')\n",
    "plt.legend()\n",
    "plt.show()"
   ]
  }
 ],
 "metadata": {
  "kernelspec": {
   "display_name": "Python (deepr)",
   "language": "python",
   "name": "deepr"
  },
  "language_info": {
   "codemirror_mode": {
    "name": "ipython",
    "version": 3
   },
   "file_extension": ".py",
   "mimetype": "text/x-python",
   "name": "python",
   "nbconvert_exporter": "python",
   "pygments_lexer": "ipython3",
   "version": "3.6.6"
  }
 },
 "nbformat": 4,
 "nbformat_minor": 2
}
